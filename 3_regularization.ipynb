{
 "cells": [
  {
   "cell_type": "markdown",
   "metadata": {
    "colab_type": "text",
    "id": "kR-4eNdK6lYS"
   },
   "source": [
    "Deep Learning\n",
    "=============\n",
    "\n",
    "Assignment 3\n",
    "------------\n",
    "\n",
    "Previously in `2_fullyconnected.ipynb`, you trained a logistic regression and a neural network model.\n",
    "\n",
    "The goal of this assignment is to explore regularization techniques."
   ]
  },
  {
   "cell_type": "code",
   "execution_count": 1,
   "metadata": {
    "cellView": "both",
    "colab": {
     "autoexec": {
      "startup": false,
      "wait_interval": 0
     }
    },
    "colab_type": "code",
    "collapsed": false,
    "id": "JLpLa8Jt7Vu4"
   },
   "outputs": [],
   "source": [
    "# These are all the modules we'll be using later. Make sure you can import them\n",
    "# before proceeding further.\n",
    "from __future__ import print_function\n",
    "import numpy as np\n",
    "import tensorflow as tf\n",
    "from six.moves import cPickle as pickle"
   ]
  },
  {
   "cell_type": "markdown",
   "metadata": {
    "colab_type": "text",
    "id": "1HrCK6e17WzV"
   },
   "source": [
    "First reload the data we generated in _notmist.ipynb_."
   ]
  },
  {
   "cell_type": "code",
   "execution_count": 2,
   "metadata": {
    "cellView": "both",
    "colab": {
     "autoexec": {
      "startup": false,
      "wait_interval": 0
     },
     "output_extras": [
      {
       "item_id": 1
      }
     ]
    },
    "colab_type": "code",
    "collapsed": false,
    "executionInfo": {
     "elapsed": 11777,
     "status": "ok",
     "timestamp": 1449849322348,
     "user": {
      "color": "",
      "displayName": "",
      "isAnonymous": false,
      "isMe": true,
      "permissionId": "",
      "photoUrl": "",
      "sessionId": "0",
      "userId": ""
     },
     "user_tz": 480
    },
    "id": "y3-cj1bpmuxc",
    "outputId": "e03576f1-ebbe-4838-c388-f1777bcc9873"
   },
   "outputs": [
    {
     "name": "stdout",
     "output_type": "stream",
     "text": [
      "Training set (200000, 28, 28) (200000,)\n",
      "Validation set (10000, 28, 28) (10000,)\n",
      "Test set (10000, 28, 28) (10000,)\n"
     ]
    }
   ],
   "source": [
    "pickle_file = 'notMNIST.pickle'\n",
    "\n",
    "with open(pickle_file, 'rb') as f:\n",
    "  save = pickle.load(f)\n",
    "  train_dataset = save['train_dataset']\n",
    "  train_labels = save['train_labels']\n",
    "  valid_dataset = save['valid_dataset']\n",
    "  valid_labels = save['valid_labels']\n",
    "  test_dataset = save['test_dataset']\n",
    "  test_labels = save['test_labels']\n",
    "  del save  # hint to help gc free up memory\n",
    "  print('Training set', train_dataset.shape, train_labels.shape)\n",
    "  print('Validation set', valid_dataset.shape, valid_labels.shape)\n",
    "  print('Test set', test_dataset.shape, test_labels.shape)"
   ]
  },
  {
   "cell_type": "markdown",
   "metadata": {
    "colab_type": "text",
    "id": "L7aHrm6nGDMB"
   },
   "source": [
    "Reformat into a shape that's more adapted to the models we're going to train:\n",
    "- data as a flat matrix,\n",
    "- labels as float 1-hot encodings."
   ]
  },
  {
   "cell_type": "code",
   "execution_count": 3,
   "metadata": {
    "cellView": "both",
    "colab": {
     "autoexec": {
      "startup": false,
      "wait_interval": 0
     },
     "output_extras": [
      {
       "item_id": 1
      }
     ]
    },
    "colab_type": "code",
    "collapsed": false,
    "executionInfo": {
     "elapsed": 11728,
     "status": "ok",
     "timestamp": 1449849322356,
     "user": {
      "color": "",
      "displayName": "",
      "isAnonymous": false,
      "isMe": true,
      "permissionId": "",
      "photoUrl": "",
      "sessionId": "0",
      "userId": ""
     },
     "user_tz": 480
    },
    "id": "IRSyYiIIGIzS",
    "outputId": "3f8996ee-3574-4f44-c953-5c8a04636582"
   },
   "outputs": [
    {
     "name": "stdout",
     "output_type": "stream",
     "text": [
      "Training set (200000, 784) (200000, 10)\n",
      "Validation set (10000, 784) (10000, 10)\n",
      "Test set (10000, 784) (10000, 10)\n"
     ]
    }
   ],
   "source": [
    "image_size = 28\n",
    "num_labels = 10\n",
    "\n",
    "def reformat(dataset, labels):\n",
    "  dataset = dataset.reshape((-1, image_size * image_size)).astype(np.float32)\n",
    "  # Map 1 to [0.0, 1.0, 0.0 ...], 2 to [0.0, 0.0, 1.0 ...]\n",
    "  labels = (np.arange(num_labels) == labels[:,None]).astype(np.float32)\n",
    "  return dataset, labels\n",
    "train_dataset, train_labels = reformat(train_dataset, train_labels)\n",
    "valid_dataset, valid_labels = reformat(valid_dataset, valid_labels)\n",
    "test_dataset, test_labels = reformat(test_dataset, test_labels)\n",
    "print('Training set', train_dataset.shape, train_labels.shape)\n",
    "print('Validation set', valid_dataset.shape, valid_labels.shape)\n",
    "print('Test set', test_dataset.shape, test_labels.shape)"
   ]
  },
  {
   "cell_type": "code",
   "execution_count": 4,
   "metadata": {
    "cellView": "both",
    "colab": {
     "autoexec": {
      "startup": false,
      "wait_interval": 0
     }
    },
    "colab_type": "code",
    "collapsed": true,
    "id": "RajPLaL_ZW6w"
   },
   "outputs": [],
   "source": [
    "def accuracy(predictions, labels):\n",
    "  return (100.0 * np.sum(np.argmax(predictions, 1) == np.argmax(labels, 1))\n",
    "          / predictions.shape[0])"
   ]
  },
  {
   "cell_type": "code",
   "execution_count": 82,
   "metadata": {
    "collapsed": false
   },
   "outputs": [],
   "source": [
    "number_of_batches_when_reduced = 3\n",
    "batch_size = 128\n",
    "\n",
    "def run_model(num_steps, reduced=False):\n",
    "    actual_train_dataset = train_dataset\n",
    "    actual_train_labels = train_labels\n",
    "    if (reduced):\n",
    "        actual_train_dataset = train_dataset[:number_of_batches_when_reduced * batch_size, :]\n",
    "        actual_train_labels = train_labels[:number_of_batches_when_reduced * batch_size, :]\n",
    "    with tf.Session(graph=graph) as session:\n",
    "      tf.global_variables_initializer().run()\n",
    "      print(\"Initialized\")\n",
    "      for step in range(num_steps):\n",
    "        # Pick an offset within the training data, which has been randomized.\n",
    "        # Note: we could use better randomization across epochs.\n",
    "        offset = (step * batch_size) % (actual_train_labels.shape[0] - batch_size)\n",
    "        # Generate a minibatch.\n",
    "        batch_data = actual_train_dataset[offset:(offset + batch_size), :]\n",
    "        batch_labels = actual_train_labels[offset:(offset + batch_size), :]\n",
    "        # Prepare a dictionary telling the session where to feed the minibatch.\n",
    "        # The key of the dictionary is the placeholder node of the graph to be fed,\n",
    "        # and the value is the numpy array to feed to it.\n",
    "        feed_dict = {tf_train_dataset : batch_data, tf_train_labels : batch_labels}\n",
    "        _, l, predictions = session.run(\n",
    "          [optimizer, loss, train_prediction], feed_dict=feed_dict)\n",
    "        if (step % 500 == 0):\n",
    "          print(\"Minibatch loss at step %d: %f, training acc %.1f%%, validation acc %.1f%%\" % (step, l, accuracy(predictions, batch_labels), accuracy(\n",
    "            valid_prediction.eval(), valid_labels) ))\n",
    "      print(\"Test accuracy: %.1f%%\" % accuracy(test_prediction.eval(), test_labels))"
   ]
  },
  {
   "cell_type": "markdown",
   "metadata": {
    "colab_type": "text",
    "id": "sgLbUAQ1CW-1"
   },
   "source": [
    "---\n",
    "Problem 1\n",
    "---------\n",
    "\n",
    "Introduce and tune L2 regularization for both logistic and neural network models. Remember that L2 amounts to adding a penalty on the norm of the weights to the loss. In TensorFlow, you can compute the L2 loss for a tensor `t` using `nn.l2_loss(t)`. The right amount of regularization should improve your validation / test accuracy.\n",
    "\n",
    "---"
   ]
  },
  {
   "cell_type": "code",
   "execution_count": 43,
   "metadata": {
    "collapsed": false
   },
   "outputs": [
    {
     "name": "stdout",
     "output_type": "stream",
     "text": [
      "Initialized\n",
      "Minibatch loss at step 0: 18.536770, 14.8%, 14.9%\n",
      "Minibatch loss at step 500: 2.742246, 73.4%, 76.0%\n",
      "Minibatch loss at step 1000: 1.650719, 78.1%, 78.0%\n",
      "Minibatch loss at step 1500: 1.400585, 78.9%, 79.7%\n",
      "Minibatch loss at step 2000: 0.898838, 82.8%, 81.4%\n",
      "Minibatch loss at step 2500: 0.834700, 85.2%, 81.2%\n",
      "Minibatch loss at step 3000: 0.910054, 78.9%, 82.4%\n",
      "Minibatch loss at step 3500: 0.843195, 81.2%, 81.1%\n",
      "Minibatch loss at step 4000: 0.736633, 82.0%, 81.8%\n",
      "Minibatch loss at step 4500: 0.618556, 84.4%, 81.7%\n",
      "Minibatch loss at step 5000: 0.553512, 85.9%, 82.6%\n",
      "Minibatch loss at step 5500: 0.757775, 81.2%, 82.2%\n",
      "Minibatch loss at step 6000: 0.796296, 82.0%, 82.2%\n",
      "Minibatch loss at step 6500: 0.701299, 82.8%, 82.6%\n",
      "Minibatch loss at step 7000: 0.832602, 78.1%, 82.5%\n",
      "Minibatch loss at step 7500: 0.550338, 85.9%, 82.4%\n",
      "Minibatch loss at step 8000: 0.647765, 82.0%, 82.8%\n",
      "Minibatch loss at step 8500: 0.867115, 77.3%, 81.4%\n",
      "Minibatch loss at step 9000: 0.799332, 81.2%, 82.7%\n",
      "Minibatch loss at step 9500: 0.762760, 79.7%, 82.7%\n",
      "Minibatch loss at step 10000: 0.791631, 78.1%, 82.3%\n",
      "Test accuracy: 88.2%\n"
     ]
    }
   ],
   "source": [
    "# Logistic SGD\n",
    "\n",
    "beta = 0.001\n",
    "\n",
    "graph = tf.Graph()\n",
    "with graph.as_default():\n",
    "\n",
    "  # Input data. For the training data, we use a placeholder that will be fed\n",
    "  # at run time with a training minibatch.\n",
    "  tf_train_dataset = tf.placeholder(tf.float32,\n",
    "                                    shape=(batch_size, image_size * image_size))\n",
    "  tf_train_labels = tf.placeholder(tf.float32, shape=(batch_size, num_labels))\n",
    "  tf_valid_dataset = tf.constant(valid_dataset)\n",
    "  tf_test_dataset = tf.constant(test_dataset)\n",
    "  \n",
    "  # Variables.\n",
    "  weights = tf.Variable(\n",
    "    tf.truncated_normal([image_size * image_size, num_labels]))\n",
    "  biases = tf.Variable(tf.zeros([num_labels]))\n",
    "  \n",
    "  # Training computation.\n",
    "  logits = tf.matmul(tf_train_dataset, weights) + biases\n",
    "  loss = tf.reduce_mean(\n",
    "    (tf.nn.softmax_cross_entropy_with_logits(logits, tf_train_labels)) +\n",
    "        beta * (tf.nn.l2_loss(weights)))\n",
    "  \n",
    "  # Optimizer.\n",
    "  optimizer = tf.train.GradientDescentOptimizer(0.5).minimize(loss)\n",
    "  \n",
    "  # Predictions for the training, validation, and test data.\n",
    "  train_prediction = tf.nn.softmax(logits)\n",
    "  valid_prediction = tf.nn.softmax(\n",
    "    tf.matmul(tf_valid_dataset, weights) + biases)\n",
    "  test_prediction = tf.nn.softmax(tf.matmul(tf_test_dataset, weights) + biases)\n",
    "    \n",
    "run_model(10001)"
   ]
  },
  {
   "cell_type": "code",
   "execution_count": 47,
   "metadata": {
    "collapsed": false
   },
   "outputs": [],
   "source": [
    "hidden_nodes = 1024\n",
    "beta = 0.001\n",
    "def neural_network():\n",
    "    def model(x, weights1, biases1, weights2, biases2):\n",
    "        layer_1 = tf.matmul(x, weights1) + biases1\n",
    "        layer_1_relu = tf.nn.relu(layer_1)\n",
    "        return tf.matmul(layer_1_relu, weights2) + biases2\n",
    "\n",
    "    graph = tf.Graph()\n",
    "    with graph.as_default():\n",
    "\n",
    "      # Input data. For the training data, we use a placeholder that will be fed\n",
    "      # at run time with a training minibatch.\n",
    "      tf_train_dataset = tf.placeholder(tf.float32,\n",
    "                                        shape=(batch_size, image_size * image_size))\n",
    "      tf_train_labels = tf.placeholder(tf.float32, shape=(batch_size, num_labels))\n",
    "      tf_valid_dataset = tf.constant(valid_dataset)\n",
    "      tf_test_dataset = tf.constant(test_dataset)\n",
    "\n",
    "      # Variables.\n",
    "      weights1 = tf.Variable(\n",
    "        tf.truncated_normal([image_size * image_size, hidden_nodes]))\n",
    "      biases1 = tf.Variable(tf.zeros([hidden_nodes]))\n",
    "\n",
    "      weights2 = tf.Variable(\n",
    "        tf.truncated_normal([hidden_nodes, num_labels]))\n",
    "      biases2 = tf.Variable(tf.zeros([num_labels]))\n",
    "\n",
    "      # Training computation.\n",
    "      logits = model(tf_train_dataset, weights1, biases1, weights2, biases2)\n",
    "      loss = tf.reduce_mean(\n",
    "        (tf.nn.softmax_cross_entropy_with_logits(logits, tf_train_labels))  +\n",
    "            beta * (tf.nn.l2_loss(weights1) +\n",
    "                    tf.nn.l2_loss(weights2)))\n",
    "\n",
    "      # Optimizer.\n",
    "      optimizer = tf.train.GradientDescentOptimizer(0.5).minimize(loss)\n",
    "\n",
    "      # Predictions for the training, validation, and test data.\n",
    "      train_prediction = tf.nn.softmax(logits)\n",
    "      valid_prediction = tf.nn.softmax(model(tf_valid_dataset, weights1, biases1, weights2, biases2))\n",
    "      test_prediction =  tf.nn.softmax(model(tf_test_dataset, weights1, biases1, weights2, biases2))"
   ]
  },
  {
   "cell_type": "code",
   "execution_count": 66,
   "metadata": {
    "collapsed": false
   },
   "outputs": [
    {
     "name": "stdout",
     "output_type": "stream",
     "text": [
      "Initialized\n",
      "Minibatch loss at step 0: 663.357910, training acc 5.5%, validation acc 32.6%\n",
      "Minibatch loss at step 500: 199.302185, training acc 78.9%, validation acc 78.6%\n",
      "Minibatch loss at step 1000: 115.231857, training acc 82.8%, validation acc 82.6%\n",
      "Minibatch loss at step 1500: 69.016640, training acc 82.0%, validation acc 82.9%\n",
      "Minibatch loss at step 2000: 41.403770, training acc 85.2%, validation acc 85.3%\n",
      "Minibatch loss at step 2500: 25.164795, training acc 90.6%, validation acc 86.4%\n",
      "Minibatch loss at step 3000: 15.459551, training acc 89.1%, validation acc 86.8%\n",
      "Test accuracy: 92.5%\n"
     ]
    }
   ],
   "source": [
    "neural_network()\n",
    "run_model(3001)"
   ]
  },
  {
   "cell_type": "markdown",
   "metadata": {
    "colab_type": "text",
    "id": "na8xX2yHZzNF"
   },
   "source": [
    "---\n",
    "Problem 2\n",
    "---------\n",
    "Let's demonstrate an extreme case of overfitting. Restrict your training data to just a few batches. What happens?\n",
    "\n",
    "---"
   ]
  },
  {
   "cell_type": "code",
   "execution_count": 83,
   "metadata": {
    "collapsed": false
   },
   "outputs": [
    {
     "name": "stdout",
     "output_type": "stream",
     "text": [
      "Initialized\n",
      "Minibatch loss at step 0: 941.361633, training acc 9.4%, validation acc 26.7%\n",
      "Minibatch loss at step 500: 191.497086, training acc 100.0%, validation acc 76.2%\n",
      "Minibatch loss at step 1000: 116.156067, training acc 100.0%, validation acc 76.0%\n",
      "Minibatch loss at step 1500: 70.456291, training acc 100.0%, validation acc 76.4%\n",
      "Minibatch loss at step 2000: 42.731045, training acc 100.0%, validation acc 76.4%\n",
      "Minibatch loss at step 2500: 25.915590, training acc 100.0%, validation acc 76.9%\n",
      "Minibatch loss at step 3000: 15.717144, training acc 100.0%, validation acc 76.8%\n",
      "Test accuracy: 82.5%\n"
     ]
    }
   ],
   "source": [
    "neural_network()\n",
    "run_model(3001, True)"
   ]
  },
  {
   "cell_type": "markdown",
   "metadata": {
    "colab_type": "text",
    "id": "ww3SCBUdlkRc"
   },
   "source": [
    "---\n",
    "Problem 3\n",
    "---------\n",
    "Introduce Dropout on the hidden layer of the neural network. Remember: Dropout should only be introduced during training, not evaluation, otherwise your evaluation results would be stochastic as well. TensorFlow provides `nn.dropout()` for that, but you have to make sure it's only inserted during training.\n",
    "\n",
    "What happens to our extreme overfitting case?\n",
    "\n",
    "---"
   ]
  },
  {
   "cell_type": "code",
   "execution_count": null,
   "metadata": {
    "collapsed": false
   },
   "outputs": [
    {
     "name": "stdout",
     "output_type": "stream",
     "text": [
      "Initialized\n",
      "Minibatch loss at step 0: 831.162109, training acc 6.2%, validation acc 31.2%\n",
      "Minibatch loss at step 500: 191.890976, training acc 100.0%, validation acc 75.6%\n",
      "Minibatch loss at step 1000: 116.409416, training acc 100.0%, validation acc 76.4%\n",
      "Minibatch loss at step 1500: 70.606720, training acc 100.0%, validation acc 76.6%\n",
      "Minibatch loss at step 2000: 42.824017, training acc 100.0%, validation acc 76.9%\n",
      "Minibatch loss at step 2500: 25.971579, training acc 100.0%, validation acc 77.0%\n"
     ]
    }
   ],
   "source": [
    "hidden_nodes = 1024\n",
    "beta = 0.001\n",
    "keep_prob = 0.5\n",
    "def model(x, weights1, biases1, weights2, biases2, for_training=False):\n",
    "    layer_1 = tf.matmul(x, weights1) + biases1\n",
    "    layer_1_relu = tf.nn.relu(layer_1)\n",
    "    if (for_training):\n",
    "        layer_1_relu = tf.nn.dropout(layer_1_relu, keep_prob)\n",
    "    return tf.matmul(layer_1_relu, weights2) + biases2\n",
    "\n",
    "graph = tf.Graph()\n",
    "with graph.as_default():\n",
    "\n",
    "  # Input data. For the training data, we use a placeholder that will be fed\n",
    "  # at run time with a training minibatch.\n",
    "  tf_train_dataset = tf.placeholder(tf.float32,\n",
    "                                    shape=(batch_size, image_size * image_size))\n",
    "  tf_train_labels = tf.placeholder(tf.float32, shape=(batch_size, num_labels))\n",
    "  tf_valid_dataset = tf.constant(valid_dataset)\n",
    "  tf_test_dataset = tf.constant(test_dataset)\n",
    "\n",
    "  # Variables.\n",
    "  weights1 = tf.Variable(\n",
    "    tf.truncated_normal([image_size * image_size, hidden_nodes]))\n",
    "  biases1 = tf.Variable(tf.zeros([hidden_nodes]))\n",
    "\n",
    "  weights2 = tf.Variable(\n",
    "    tf.truncated_normal([hidden_nodes, num_labels]))\n",
    "  biases2 = tf.Variable(tf.zeros([num_labels]))\n",
    "\n",
    "  # Training computation.\n",
    "  logits = model(tf_train_dataset, weights1, biases1, weights2, biases2, True)\n",
    "  loss = tf.reduce_mean(\n",
    "    (tf.nn.softmax_cross_entropy_with_logits(logits, tf_train_labels))  +\n",
    "        beta * (tf.nn.l2_loss(weights1) +\n",
    "                tf.nn.l2_loss(weights2)))\n",
    "\n",
    "  # Optimizer.\n",
    "  optimizer = tf.train.GradientDescentOptimizer(0.5).minimize(loss)\n",
    "\n",
    "  # Predictions for the training, validation, and test data.\n",
    "  train_prediction = tf.nn.softmax(logits)\n",
    "  valid_prediction = tf.nn.softmax(model(tf_valid_dataset, weights1, biases1, weights2, biases2))\n",
    "  test_prediction =  tf.nn.softmax(model(tf_test_dataset, weights1, biases1, weights2, biases2))\n",
    "\n",
    "run_model(3001, True)"
   ]
  },
  {
   "cell_type": "markdown",
   "metadata": {
    "colab_type": "text",
    "id": "-b1hTz3VWZjw"
   },
   "source": [
    "---\n",
    "Problem 4\n",
    "---------\n",
    "\n",
    "Try to get the best performance you can using a multi-layer model! The best reported test accuracy using a deep network is [97.1%](http://yaroslavvb.blogspot.com/2011/09/notmnist-dataset.html?showComment=1391023266211#c8758720086795711595).\n",
    "\n",
    "One avenue you can explore is to add multiple layers.\n",
    "\n",
    "Another one is to use learning rate decay:\n",
    "\n",
    "    global_step = tf.Variable(0)  # count the number of steps taken.\n",
    "    learning_rate = tf.train.exponential_decay(0.5, global_step, ...)\n",
    "    optimizer = tf.train.GradientDescentOptimizer(learning_rate).minimize(loss, global_step=global_step)\n",
    " \n",
    " ---\n"
   ]
  }
 ],
 "metadata": {
  "colab": {
   "default_view": {},
   "name": "3_regularization.ipynb",
   "provenance": [],
   "version": "0.3.2",
   "views": {}
  },
  "kernelspec": {
   "display_name": "Python 2",
   "language": "python",
   "name": "python2"
  },
  "language_info": {
   "codemirror_mode": {
    "name": "ipython",
    "version": 2
   },
   "file_extension": ".py",
   "mimetype": "text/x-python",
   "name": "python",
   "nbconvert_exporter": "python",
   "pygments_lexer": "ipython2",
   "version": "2.7.12"
  }
 },
 "nbformat": 4,
 "nbformat_minor": 0
}
